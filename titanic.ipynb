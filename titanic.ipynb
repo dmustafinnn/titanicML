{
 "cells": [
  {
   "cell_type": "code",
   "execution_count": 2,
   "metadata": {},
   "outputs": [
    {
     "data": {
      "text/plain": [
       "PassengerId      int64\n",
       "Survived         int64\n",
       "Pclass           int64\n",
       "Name            string\n",
       "Sex             string\n",
       "Age            float64\n",
       "SibSp            int64\n",
       "Parch            int64\n",
       "Ticket          string\n",
       "Fare           float64\n",
       "Cabin           string\n",
       "Embarked        string\n",
       "dtype: object"
      ]
     },
     "execution_count": 2,
     "metadata": {},
     "output_type": "execute_result"
    }
   ],
   "source": [
    "import pandas as pd\n",
    "train = pd.read_csv('train.csv')\n",
    "my_types = {\n",
    "    'Name': 'string',\n",
    "    'Sex': 'string',\n",
    "    'Embarked': 'string',\n",
    "    'Ticket': 'string',\n",
    "    'Cabin': 'string',\n",
    "}\n",
    "\n",
    "train = pd.read_csv('train.csv', dtype = my_types)\n",
    "train.dtypes"
   ]
  }
 ],
 "metadata": {
  "kernelspec": {
   "display_name": "Python 3.9.12 ('base')",
   "language": "python",
   "name": "python3"
  },
  "language_info": {
   "codemirror_mode": {
    "name": "ipython",
    "version": 3
   },
   "file_extension": ".py",
   "mimetype": "text/x-python",
   "name": "python",
   "nbconvert_exporter": "python",
   "pygments_lexer": "ipython3",
   "version": "3.9.12"
  },
  "orig_nbformat": 4,
  "vscode": {
   "interpreter": {
    "hash": "4c92358a0caa6703fbfe98db61f74021d19580bc2a59a0f15f0b17210df338cd"
   }
  }
 },
 "nbformat": 4,
 "nbformat_minor": 2
}
